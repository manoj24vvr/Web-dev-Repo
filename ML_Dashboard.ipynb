{
 "cells": [
  {
   "cell_type": "markdown",
   "id": "666f6ef9",
   "metadata": {},
   "source": [
    "### In this notebook, lets import our models from the converted pickle files."
   ]
  },
  {
   "cell_type": "code",
   "execution_count": 1,
   "id": "de273ae6",
   "metadata": {},
   "outputs": [],
   "source": [
    "# Importing libraries\n",
    "import numpy as np\n",
    "import pandas as pd\n",
    "\n",
    "# Importing pickle\n",
    "import pickle"
   ]
  },
  {
   "cell_type": "markdown",
   "id": "408291ee",
   "metadata": {},
   "source": [
    "### Loading the linear regression Model back from pickle file"
   ]
  },
  {
   "cell_type": "code",
   "execution_count": 2,
   "id": "bb7371f4",
   "metadata": {},
   "outputs": [
    {
     "data": {
      "text/plain": [
       "LinearRegression()"
      ]
     },
     "execution_count": 2,
     "metadata": {},
     "output_type": "execute_result"
    }
   ],
   "source": [
    "with open('Pickle_reg_Model.pkl', 'rb') as file:  \n",
    "    LR_Model = pickle.load(file)\n",
    "\n",
    "LR_Model"
   ]
  },
  {
   "cell_type": "code",
   "execution_count": 3,
   "id": "341fba76",
   "metadata": {},
   "outputs": [],
   "source": [
    "# Linear Regresion\n",
    "\n",
    "def LinearReg():\n",
    "    \n",
    "    print(\"Input data for 1st example.\")\n",
    "    rm1 = input(\"Enter 'rm' value: \")\n",
    "    lstat1 = input(\"Enter 'lstat' value: \")\n",
    "    indus1 = input(\"Enter 'indus' value: \")\n",
    "    ptratio1 = input(\"Enter 'ptratio' value: \")\n",
    "    \n",
    "    print(\"Input data for 2nd example.\")\n",
    "    rm2 = input(\"Enter 'rm' value: \")\n",
    "    lstat2 = input(\"Enter 'lstat' value: \")\n",
    "    indus2 = input(\"Enter 'indus' value: \")\n",
    "    ptratio2 = input(\"Enter 'ptratio' value: \")\n",
    "    \n",
    "    list = [[rm1,lstat1,indus1,ptratio1],[rm2,lstat2,indus2,ptratio2]]\n",
    "    l = np.array(list)\n",
    "    medv = LR_Model.predict(l)\n",
    "    print(\"Medv value of given input data is\",medv)"
   ]
  },
  {
   "cell_type": "markdown",
   "id": "c310789d",
   "metadata": {},
   "source": [
    "### Loading the logistic regression Model back from pickle file"
   ]
  },
  {
   "cell_type": "code",
   "execution_count": 4,
   "id": "f893baad",
   "metadata": {},
   "outputs": [
    {
     "data": {
      "text/plain": [
       "LogisticRegression()"
      ]
     },
     "execution_count": 4,
     "metadata": {},
     "output_type": "execute_result"
    }
   ],
   "source": [
    "with open('Pickle_LogReg_Model.pkl', 'rb') as file:  \n",
    "    LogR_Model = pickle.load(file)\n",
    "\n",
    "LogR_Model"
   ]
  },
  {
   "cell_type": "code",
   "execution_count": 5,
   "id": "7a75bfc1",
   "metadata": {},
   "outputs": [],
   "source": [
    "# Logistic Regression\n",
    "\n",
    "def LogisticReg():\n",
    "    \n",
    "    print(\"Input data for 1st example.\")\n",
    "    preg1 = input(\"No. of times pregnant: \")\n",
    "    plas1 = input(\"Plasma glucose concentration a 2 hours in an oral glucose tolerance test: \")\n",
    "    pres1 = input(\"Diastolic BP(in mm Hg): \")\n",
    "    skin1 = input(\"Triceps skin fold thickness(in mm): \")\n",
    "    insu1 = input(\"2-Hour serum insulin (mu U/ml): \")\n",
    "    mass1 = input(\"BMI: \")\n",
    "    pedi1 = input(\"Diabetes pedigree function: \")\n",
    "    age1 = input(\"Age (years): \")\n",
    "    \n",
    "    print(\"Input data for 2nd example.\")\n",
    "    preg2 = input(\"No. of times pregnant: \")\n",
    "    plas2 = input(\"Plasma glucose concentration a 2 hours in an oral glucose tolerance test: \")\n",
    "    pres2 = input(\"Diastolic BP(in mm Hg): \")\n",
    "    skin2 = input(\"Triceps skin fold thickness(in mm): \")\n",
    "    insu2 = input(\"2-Hour serum insulin (mu U/ml): \")\n",
    "    mass2 = input(\"BMI: \")\n",
    "    pedi2 = input(\"Diabetes pedigree function: \")\n",
    "    age2 = input(\"Age (years): \")\n",
    "        \n",
    "    list = [[preg1,plas1,pres1,skin1,insu1,mass1,pedi1,age1],[preg2,plas2,pres2,skin2,insu2,mass2,pedi2,age2]]\n",
    "    l = np.array(list)\n",
    "    outcome = LogR_Model.predict(l)\n",
    "    print(\"Outcome of given input examples are \",outcome)"
   ]
  },
  {
   "cell_type": "markdown",
   "id": "dae05243",
   "metadata": {},
   "source": [
    "### Load the KNN Model back from pickle file"
   ]
  },
  {
   "cell_type": "code",
   "execution_count": 6,
   "id": "b4442be6",
   "metadata": {},
   "outputs": [
    {
     "data": {
      "text/plain": [
       "KNeighborsClassifier(n_neighbors=7)"
      ]
     },
     "execution_count": 6,
     "metadata": {},
     "output_type": "execute_result"
    }
   ],
   "source": [
    "with open('Pickle_knn_Model.pkl', 'rb') as file:  \n",
    "    knn_Model = pickle.load(file)\n",
    "\n",
    "knn_Model"
   ]
  },
  {
   "cell_type": "code",
   "execution_count": 7,
   "id": "4a37fb0b",
   "metadata": {},
   "outputs": [],
   "source": [
    "def knn():\n",
    "        \n",
    "    print(\"Input data for 1st example (all in cm).\")\n",
    "    SepalL1 = input(\"Sepal Length: \")\n",
    "    SepalW1 = input(\"Sepal Width: \")\n",
    "    PetalL1 = input(\"Petal Length: \")\n",
    "    PetalW1 = input(\"Petal Width: \")\n",
    "    \n",
    "    print(\"Input data for 2nd example (all in cm).\")\n",
    "    SepalL2 = input(\"Sepal Length: \")\n",
    "    SepalW2 = input(\"Sepal Width: \")\n",
    "    PetalL2 = input(\"Petal Length: \")\n",
    "    PetalW2 = input(\"Petal Width: \")\n",
    "    \n",
    "    list= [[SepalL1,SepalW1,PetalL1,PetalW1],[SepalL2,SepalW2,PetalL2,PetalW2]]\n",
    "    l = np.array(list)\n",
    "    species = knn_Model.predict(l)\n",
    "    print(\"Species of given examples are \",species)"
   ]
  },
  {
   "cell_type": "markdown",
   "id": "9cdbc4e6",
   "metadata": {},
   "source": [
    "### Loading the Decision Tree model back from pickle file"
   ]
  },
  {
   "cell_type": "code",
   "execution_count": 8,
   "id": "622037e1",
   "metadata": {},
   "outputs": [
    {
     "data": {
      "text/plain": [
       "GridSearchCV(cv=10, estimator=DecisionTreeClassifier(random_state=42),\n",
       "             param_grid={'criterion': ['gini', 'entropy'],\n",
       "                         'max_depth': array([ 2,  3,  4,  5,  6,  7,  8,  9, 10])},\n",
       "             scoring='roc_auc')"
      ]
     },
     "execution_count": 8,
     "metadata": {},
     "output_type": "execute_result"
    }
   ],
   "source": [
    "with open('Pickle_deciTree_Model.pkl', 'rb') as file:  \n",
    "    DT_Model = pickle.load(file)\n",
    "\n",
    "DT_Model"
   ]
  },
  {
   "cell_type": "code",
   "execution_count": 9,
   "id": "76d97252",
   "metadata": {},
   "outputs": [],
   "source": [
    "def DecisionTree():\n",
    "    print(\"Input data for 1st example.\")\n",
    "    checAcc1 = input(\"Checking Acc: \")\n",
    "    duration1 = input(\"Duration: \")\n",
    "    credhis1 = input(\"Credit History: \")\n",
    "    amt1 = input(\"Amount: \")\n",
    "    savAcc1 = input(\"Savings Acc: \")\n",
    "    pes1 = input(\"Present_emp_since: \")\n",
    "    ins_rate1 = input(\"Installment Rate: \")\n",
    "    ps1 = input(\"Personal Status: \")\n",
    "    rs1 = input(\"Residing since: \")\n",
    "    age1 = input(\"Age: \")\n",
    "    ip1 = input(\"Inst Plans: \")\n",
    "    nc1 = input(\"No. of credits: \")\n",
    "    j1 = input(\"Job: \")\n",
    "    \n",
    "    print(\"Input data for 2nd example.\")\n",
    "    checAcc2 = input(\"Checking Acc: \")\n",
    "    duration2 = input(\"Duration: \")\n",
    "    credhis2 = input(\"Credit History: \")\n",
    "    amt2 = input(\"Amount: \")\n",
    "    savAcc2 = input(\"Savings Acc: \")\n",
    "    pes2 = input(\"Present_emp_since: \")\n",
    "    ins_rate2 = input(\"Installment Rate: \")\n",
    "    ps2 = input(\"Personal Status: \")\n",
    "    rs2 = input(\"Residing since: \")\n",
    "    age2 = input(\"Age: \")\n",
    "    ip2 = input(\"Inst Plans: \")\n",
    "    nc2 = input(\"No. of credits: \")\n",
    "    j2 = input(\"Job: \")\n",
    "    \n",
    "    list = [[checAcc1,duration1,credhis1,amt1,savAcc1,pes1,ins_rate1,ps1,rs1,age1,ip1,nc1,j1],\n",
    "           [checAcc2,duration2,credhis2,amt2,savAcc2,pes2,ins_rate2,ps2,rs2,age2,ip2,nc2,j2]]\n",
    "    l = np.array(list)\n",
    "    status = DT_Model.predict(l)\n",
    "    print(\"Status of given inputs are \",status)\n",
    "    "
   ]
  },
  {
   "cell_type": "markdown",
   "id": "ba4d599c",
   "metadata": {},
   "source": [
    "### Loading the MLP model back from pickle file"
   ]
  },
  {
   "cell_type": "code",
   "execution_count": 10,
   "id": "5ef9c00e",
   "metadata": {},
   "outputs": [
    {
     "data": {
      "text/plain": [
       "MLPClassifier(hidden_layer_sizes=(13, 13, 13), learning_rate_init=0.5,\n",
       "              max_iter=500)"
      ]
     },
     "execution_count": 10,
     "metadata": {},
     "output_type": "execute_result"
    }
   ],
   "source": [
    "with open('Pickle_MLP_Model.pkl', 'rb') as file:  \n",
    "    mlp_Model = pickle.load(file)\n",
    "\n",
    "mlp_Model"
   ]
  },
  {
   "cell_type": "code",
   "execution_count": 11,
   "id": "73fb033e",
   "metadata": {},
   "outputs": [],
   "source": [
    "def MLP():\n",
    "    print(\"Input contents for 1st example.\")\n",
    "    Al1 = input(\"Alcohol: \")\n",
    "    Ma1 = input(\"Malic acid: \")\n",
    "    Ash1 = input(\"Ash: \")\n",
    "    AlA1 = input(\"Alcalinity of ash: \")\n",
    "    Mg1 = input(\"Magnesium: \")\n",
    "    Tp1 = input(\"Total phenols: \")\n",
    "    F1 = input(\"Flavanoids: \")\n",
    "    Np1 = input(\"Nonflavanoid phenols: \")\n",
    "    P1 = input(\"Proanthocyanins: \")\n",
    "    Ci1 = input(\"Color intensity: \")\n",
    "    Hue1 = input(\"Hue: \")\n",
    "    dw1 = input(\"OD280/OD315 of diluted wines: \")\n",
    "    pr1 = input(\"Proline: \")\n",
    "    \n",
    "    \n",
    "    print(\"Input data for 2nd example.\")\n",
    "    Al2 = input(\"Alcohol: \")\n",
    "    Ma2 = input(\"Malic acid: \")\n",
    "    Ash2 = input(\"Ash: \")\n",
    "    AlA2 = input(\"Alcalinity of ash: \")\n",
    "    Mg2 = input(\"Magnesium: \")\n",
    "    Tp2 = input(\"Total phenols: \")\n",
    "    F2 = input(\"Flavanoids: \")\n",
    "    Np2 = input(\"Nonflavanoid phenols: \")\n",
    "    P2 = input(\"Proanthocyanins: \")\n",
    "    Ci2 = input(\"Color intensity: \")\n",
    "    Hue2 = input(\"Hue: \")\n",
    "    dw2 = input(\"OD280/OD315 of diluted wines: \")\n",
    "    pr2 = input(\"Proline: \")\n",
    "    \n",
    "    list = [[Al1,Ma1,Ash1,AlA1,Mg1,Tp1,F1,Np1,P1,Ci1,Hue1,dw1,pr1],\n",
    "            [Al2,Ma2,Ash2,AlA2,Mg2,Tp2,F2,Np2,P2,Ci2,Hue2,dw2,pr2]]\n",
    "    l = np.array(list)\n",
    "    Class = DT_Model.predict(l)\n",
    "    print(\"Classes of given examples are \",Class)"
   ]
  },
  {
   "cell_type": "markdown",
   "id": "f4dbb16d",
   "metadata": {},
   "source": [
    "## ML Dashboard:"
   ]
  },
  {
   "cell_type": "code",
   "execution_count": 15,
   "id": "d285e643",
   "metadata": {},
   "outputs": [
    {
     "name": "stdout",
     "output_type": "stream",
     "text": [
      "1 - Prediction of Boston House prices.\n",
      "2 - Prediction of Diabetes.\n",
      "3 - Classification of specie of flower.\n",
      "4 - Classification of German Credit card data.\n",
      "5 - Prediction of class of Wine given contents of its ingredients.\n",
      "0 - to exit the loop and stop executing.\n",
      "Enter your choice: 0\n"
     ]
    }
   ],
   "source": [
    "# code to let user select an option to predict value of his choice.\n",
    "while(True):\n",
    "    \n",
    "    print(\"1 - Prediction of Boston House prices.\")\n",
    "    print(\"2 - Prediction of Diabetes.\")\n",
    "    print(\"3 - Classification of specie of flower.\")\n",
    "    print(\"4 - Classification of German Credit card data.\")\n",
    "    print(\"5 - Prediction of class of Wine given contents of its ingredients.\")\n",
    "    print(\"0 - to exit the loop and stop executing.\")\n",
    "    opt =int(input(\"Enter your choice: \"))\n",
    "    \n",
    "    if(opt == 1):\n",
    "        LinearReg()\n",
    "    elif(opt == 2):\n",
    "        LogisticReg()\n",
    "    elif(opt == 3):\n",
    "        knn()\n",
    "    elif(opt == 4):\n",
    "        DecisionTree()\n",
    "    elif(opt == 5):\n",
    "        MLP()\n",
    "    elif(opt == 0):\n",
    "        break\n",
    "    else:\n",
    "        print(\"Invalid choice. Opt again!\")\n"
   ]
  },
  {
   "cell_type": "code",
   "execution_count": null,
   "id": "401f765a",
   "metadata": {},
   "outputs": [],
   "source": []
  }
 ],
 "metadata": {
  "kernelspec": {
   "display_name": "Python 3",
   "language": "python",
   "name": "python3"
  },
  "language_info": {
   "codemirror_mode": {
    "name": "ipython",
    "version": 3
   },
   "file_extension": ".py",
   "mimetype": "text/x-python",
   "name": "python",
   "nbconvert_exporter": "python",
   "pygments_lexer": "ipython3",
   "version": "3.7.9"
  }
 },
 "nbformat": 4,
 "nbformat_minor": 5
}
